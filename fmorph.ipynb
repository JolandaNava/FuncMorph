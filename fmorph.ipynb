{
 "cells": [
  {
   "cell_type": "code",
   "execution_count": 182,
   "metadata": {},
   "outputs": [],
   "source": [
    "{-# LANGUAGE NoMonomorphismRestriction #-}\n",
    "{-# LANGUAGE FlexibleContexts          #-}\n",
    "{-# LANGUAGE TypeFamilies              #-}\n",
    "import Data.Active\n",
    "import Diagrams.Prelude\n",
    "import Diagrams.Backend.Cairo\n",
    "import IHaskell.Display\n",
    "import Diagrams.Animation\n",
    "import Linear.Vector\n",
    "\n",
    "let n = 1000\n",
    "let wdth = 1000.0\n",
    "let hight = 1000.0\n",
    "let rnds = zip [0.71381676, 0.97519198, 0.5269516 , 0.69709396, 0.98711445,    \n",
    "                0.72417357, 0.0256388 , 0.92460535, 0.90929769, 0.19543392,\n",
    "                0.09917862, 0.31772953, 0.91473329, 0.59462692, 0.78269606,\n",
    "                0.56425287, 0.19672232, 0.20412331, 0.46596662, 0.54452717,\n",
    "                0.19082724, 0.12224448, 0.40943679, 0.56259533, 0.63179609] \n",
    "          [0.29315659, 0.46098944, 0.49039312, 0.12098803, 0.90728046,\n",
    "                0.51044478, 0.21678119, 0.07155978, 0.90845366, 0.40823845,\n",
    "                0.98755371, 0.91968892, 0.39915436, 0.10547007, 0.587491  ,\n",
    "                0.76485863, 0.31350975, 0.11020342, 0.90354456, 0.01750179,\n",
    "                0.6543156 , 0.03939264, 0.62019868, 0.82719017, 0.25508762]\n",
    "let std = map (/n) [0..n]\n",
    "let pt = circle 0.002 # fc black\n",
    "rad = 100\n",
    "draw points = atPoints (map p2 points) $ repeat pt"
   ]
  },
  {
   "cell_type": "code",
   "execution_count": 168,
   "metadata": {},
   "outputs": [
    {
     "data": {
      "text/html": [
       "<style>/* Styles used for the Hoogle display in the pager */\n",
       ".hoogle-doc {\n",
       "display: block;\n",
       "padding-bottom: 1.3em;\n",
       "padding-left: 0.4em;\n",
       "}\n",
       ".hoogle-code {\n",
       "display: block;\n",
       "font-family: monospace;\n",
       "white-space: pre;\n",
       "}\n",
       ".hoogle-text {\n",
       "display: block;\n",
       "}\n",
       ".hoogle-name {\n",
       "color: green;\n",
       "font-weight: bold;\n",
       "}\n",
       ".hoogle-head {\n",
       "font-weight: bold;\n",
       "}\n",
       ".hoogle-sub {\n",
       "display: block;\n",
       "margin-left: 0.4em;\n",
       "}\n",
       ".hoogle-package {\n",
       "font-weight: bold;\n",
       "font-style: italic;\n",
       "}\n",
       ".hoogle-module {\n",
       "font-weight: bold;\n",
       "}\n",
       ".hoogle-class {\n",
       "font-weight: bold;\n",
       "}\n",
       ".get-type {\n",
       "color: green;\n",
       "font-weight: bold;\n",
       "font-family: monospace;\n",
       "display: block;\n",
       "white-space: pre-wrap;\n",
       "}\n",
       ".show-type {\n",
       "color: green;\n",
       "font-weight: bold;\n",
       "font-family: monospace;\n",
       "margin-left: 1em;\n",
       "}\n",
       ".mono {\n",
       "font-family: monospace;\n",
       "display: block;\n",
       "}\n",
       ".err-msg {\n",
       "color: red;\n",
       "font-style: italic;\n",
       "font-family: monospace;\n",
       "white-space: pre;\n",
       "display: block;\n",
       "}\n",
       "#unshowable {\n",
       "color: red;\n",
       "font-weight: bold;\n",
       "}\n",
       ".err-msg.in.collapse {\n",
       "padding-top: 0.7em;\n",
       "}\n",
       ".highlight-code {\n",
       "white-space: pre;\n",
       "font-family: monospace;\n",
       "}\n",
       ".suggestion-warning { \n",
       "font-weight: bold;\n",
       "color: rgb(200, 130, 0);\n",
       "}\n",
       ".suggestion-error { \n",
       "font-weight: bold;\n",
       "color: red;\n",
       "}\n",
       ".suggestion-name {\n",
       "font-weight: bold;\n",
       "}\n",
       "</style><span class='err-msg'>&lt;interactive&gt;:1:21: error:<br/>    • Couldn't match type ‘V c’ with ‘Point V2’<br/>      Expected type: P2 (N c) -&gt; c -&gt; c<br/>        Actual type: Vn c -&gt; c -&gt; c<br/>    • In the first argument of ‘zipWith’, namely ‘translate’<br/>      In the expression: zipWith translate rnds (replicate n (circle 0.01))<br/>      In an equation for ‘rands’: rands = zipWith translate rnds (replicate n (circle 0.01))<br/>    • Relevant bindings include rands :: [c] (bound at &lt;interactive&gt;:1:5)</span>"
      ],
      "text/plain": [
       "<interactive>:1:21: error:\n",
       "    • Couldn't match type ‘V c’ with ‘Point V2’\n",
       "      Expected type: P2 (N c) -> c -> c\n",
       "        Actual type: Vn c -> c -> c\n",
       "    • In the first argument of ‘zipWith’, namely ‘translate’\n",
       "      In the expression: zipWith translate rnds (replicate n (circle 0.01))\n",
       "      In an equation for ‘rands’: rands = zipWith translate rnds (replicate n (circle 0.01))\n",
       "    • Relevant bindings include rands :: [c] (bound at <interactive>:1:5)"
      ]
     },
     "metadata": {},
     "output_type": "display_data"
    }
   ],
   "source": [
    "let rands = zipWith translate rnds (replicate n (circle 0.01))"
   ]
  },
  {
   "cell_type": "code",
   "execution_count": 106,
   "metadata": {},
   "outputs": [],
   "source": [
    "anim :: Animation B V2 Double\n",
    "anim = pure (\\t -> rotateBy (t) (circle 1 ||| circle 1)) <*> ui"
   ]
  },
  {
   "cell_type": "code",
   "execution_count": 200,
   "metadata": {},
   "outputs": [],
   "source": [
    "sc1 = rnds\n",
    "sc2 = zip std (repeat 0.0)\n",
    "sc3 = map (\\x -> (rad*cos(2*pi*x), rad*sin(2*pi*x))) std\n",
    "sc4 = sc2"
   ]
  },
  {
   "cell_type": "code",
   "execution_count": 199,
   "metadata": {},
   "outputs": [
    {
     "data": {
      "image/png": "[encoded data removed]"
     },
     "metadata": {},
     "output_type": "display_data"
    }
   ],
   "source": [
    "scenes = [sc2,sc3,sc4]"
   ]
  },
  {
   "cell_type": "code",
   "execution_count": 202,
   "metadata": {},
   "outputs": [],
   "source": [
    "anim :: Animation B V2 Double\n",
    "anim = (\\t -> rotateBy (t) (circle 1 ||| circle 1)) \n",
    "    <$> ui"
   ]
  },
  {
   "cell_type": "code",
   "execution_count": null,
   "metadata": {},
   "outputs": [],
   "source": []
  },
  {
   "cell_type": "code",
   "execution_count": 174,
   "metadata": {},
   "outputs": [
    {
     "data": {
      "text/html": [
       "<style>/* Styles used for the Hoogle display in the pager */\n",
       ".hoogle-doc {\n",
       "display: block;\n",
       "padding-bottom: 1.3em;\n",
       "padding-left: 0.4em;\n",
       "}\n",
       ".hoogle-code {\n",
       "display: block;\n",
       "font-family: monospace;\n",
       "white-space: pre;\n",
       "}\n",
       ".hoogle-text {\n",
       "display: block;\n",
       "}\n",
       ".hoogle-name {\n",
       "color: green;\n",
       "font-weight: bold;\n",
       "}\n",
       ".hoogle-head {\n",
       "font-weight: bold;\n",
       "}\n",
       ".hoogle-sub {\n",
       "display: block;\n",
       "margin-left: 0.4em;\n",
       "}\n",
       ".hoogle-package {\n",
       "font-weight: bold;\n",
       "font-style: italic;\n",
       "}\n",
       ".hoogle-module {\n",
       "font-weight: bold;\n",
       "}\n",
       ".hoogle-class {\n",
       "font-weight: bold;\n",
       "}\n",
       ".get-type {\n",
       "color: green;\n",
       "font-weight: bold;\n",
       "font-family: monospace;\n",
       "display: block;\n",
       "white-space: pre-wrap;\n",
       "}\n",
       ".show-type {\n",
       "color: green;\n",
       "font-weight: bold;\n",
       "font-family: monospace;\n",
       "margin-left: 1em;\n",
       "}\n",
       ".mono {\n",
       "font-family: monospace;\n",
       "display: block;\n",
       "}\n",
       ".err-msg {\n",
       "color: red;\n",
       "font-style: italic;\n",
       "font-family: monospace;\n",
       "white-space: pre;\n",
       "display: block;\n",
       "}\n",
       "#unshowable {\n",
       "color: red;\n",
       "font-weight: bold;\n",
       "}\n",
       ".err-msg.in.collapse {\n",
       "padding-top: 0.7em;\n",
       "}\n",
       ".highlight-code {\n",
       "white-space: pre;\n",
       "font-family: monospace;\n",
       "}\n",
       ".suggestion-warning { \n",
       "font-weight: bold;\n",
       "color: rgb(200, 130, 0);\n",
       "}\n",
       ".suggestion-error { \n",
       "font-weight: bold;\n",
       "color: red;\n",
       "}\n",
       ".suggestion-name {\n",
       "font-weight: bold;\n",
       "}\n",
       "</style><span class='get-type'>rad :: forall (p :: * -> * -> *) (f :: * -> *) n. (Functor f, Profunctor p) => p n (f n) -> p (Angle n) (f (Angle n))</span>"
      ],
      "text/plain": [
       "rad :: forall (p :: * -> * -> *) (f :: * -> *) n. (Functor f, Profunctor p) => p n (f n) -> p (Angle n) (f (Angle n))"
      ]
     },
     "metadata": {},
     "output_type": "display_data"
    }
   ],
   "source": [
    ":t rad"
   ]
  },
  {
   "cell_type": "code",
   "execution_count": null,
   "metadata": {},
   "outputs": [],
   "source": []
  }
 ],
 "metadata": {
  "kernelspec": {
   "display_name": "Haskell",
   "language": "haskell",
   "name": "haskell"
  },
  "language_info": {
   "codemirror_mode": "ihaskell",
   "file_extension": ".hs",
   "name": "haskell",
   "version": "8.2.2"
  }
 },
 "nbformat": 4,
 "nbformat_minor": 2
}
