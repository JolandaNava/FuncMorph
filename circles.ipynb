{
 "cells": [
  {
   "cell_type": "markdown",
   "metadata": {},
   "source": [
    "# How fast can we generate points on a circle?"
   ]
  },
  {
   "cell_type": "code",
   "execution_count": null,
   "metadata": {},
   "outputs": [],
   "source": [
    "{-# LANGUAGE NoMonomorphismRestriction #-}\n",
    "{-# LANGUAGE FlexibleContexts          #-}\n",
    "{-# LANGUAGE TypeFamilies              #-}\n",
    ":opt no-lint\n",
    "\n",
    "import FMorph\n",
    "import Diagrams.Prelude"
   ]
  },
  {
   "cell_type": "code",
   "execution_count": 65,
   "metadata": {},
   "outputs": [],
   "source": [
    "drawCircle = draw . (scalePts 100) "
   ]
  },
  {
   "cell_type": "code",
   "execution_count": 66,
   "metadata": {},
   "outputs": [],
   "source": [
    "-- naive:\n",
    "acircle1 n = map (\\t ->\n",
    "                    (cos (t * tau), sin (t * tau)))\n",
    "                $ linspace n\n",
    "\n",
    "-- using circle symmetries:\n",
    "-- 1/8 as many iterationss, give or take\n",
    "acircle2 n = concatMap (\\t ->\n",
    "                    let x = cos (t * pi / 4) \n",
    "                        y = sin (t * pi / 4)\n",
    "                    in [(x, y), (y, x), \n",
    "                        (-x, y), (y, -x),\n",
    "                        (x, -y), (-y, x),\n",
    "                        (-x, -y), (-y, -x)])\n",
    "                $ linspace n\n",
    "\n",
    "-- getting rid of one costly 'sin'\n",
    "acircle3 n = concatMap (\\t ->\n",
    "                    let x = cos (t * pi / 4) \n",
    "                        y = sqrt (1 - x ** 2) -- still costly\n",
    "                    in [(x, y), (y, x), \n",
    "                        (-x, y), (y, -x),\n",
    "                        (x, -y), (-y, x),\n",
    "                        (-x, -y), (-y, -x)])\n",
    "                $ linspace n\n",
    "                \n",
    "-- to be continued..\n",
    "acircle4 n = undefined"
   ]
  },
  {
   "cell_type": "code",
   "execution_count": 67,
   "metadata": {},
   "outputs": [
    {
     "data": {
      "image/png": "[encoded data removed]"
     },
     "metadata": {},
     "output_type": "display_data"
    }
   ],
   "source": [
    "diagram $ ( (drawCircle (acircle1 50)) |||\n",
    "            (drawCircle (acircle2 50)) |||\n",
    "            (drawCircle (acircle3 50)) )"
   ]
  }
 ],
 "metadata": {
  "kernelspec": {
   "display_name": "Haskell",
   "language": "haskell",
   "name": "haskell"
  },
  "language_info": {
   "codemirror_mode": "ihaskell",
   "file_extension": ".hs",
   "name": "haskell",
   "version": "8.2.2"
  }
 },
 "nbformat": 4,
 "nbformat_minor": 2
}
